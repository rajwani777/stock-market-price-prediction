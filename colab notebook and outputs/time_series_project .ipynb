{
 "cells": [
  {
   "cell_type": "code",
   "execution_count": 1,
   "metadata": {
    "colab": {
     "base_uri": "https://localhost:8080/"
    },
    "id": "lqLF5JJcV95R",
    "outputId": "47a25fb6-8b12-4aae-d4e1-46b1131e3719"
   },
   "outputs": [
    {
     "name": "stdout",
     "output_type": "stream",
     "text": [
      "Requirement already satisfied: pandas in c:\\users\\sharm\\documents\\code\\lib\\site-packages (1.4.3)\n",
      "Requirement already satisfied: pytz>=2020.1 in c:\\users\\sharm\\documents\\code\\lib\\site-packages (from pandas) (2021.3)\n",
      "Requirement already satisfied: numpy>=1.18.5 in c:\\users\\sharm\\documents\\code\\lib\\site-packages (from pandas) (1.21.5)\n",
      "Requirement already satisfied: python-dateutil>=2.8.1 in c:\\users\\sharm\\documents\\code\\lib\\site-packages (from pandas) (2.8.2)\n",
      "Requirement already satisfied: six>=1.5 in c:\\users\\sharm\\documents\\code\\lib\\site-packages (from python-dateutil>=2.8.1->pandas) (1.16.0)\n",
      "Requirement already satisfied: pandas-datareader in c:\\users\\sharm\\documents\\code\\lib\\site-packages (0.10.0)\n",
      "Requirement already satisfied: pandas>=0.23 in c:\\users\\sharm\\documents\\code\\lib\\site-packages (from pandas-datareader) (1.4.3)\n",
      "Requirement already satisfied: requests>=2.19.0 in c:\\users\\sharm\\documents\\code\\lib\\site-packages (from pandas-datareader) (2.27.1)\n",
      "Requirement already satisfied: lxml in c:\\users\\sharm\\documents\\code\\lib\\site-packages (from pandas-datareader) (4.8.0)\n",
      "Requirement already satisfied: pytz>=2020.1 in c:\\users\\sharm\\documents\\code\\lib\\site-packages (from pandas>=0.23->pandas-datareader) (2021.3)\n",
      "Requirement already satisfied: numpy>=1.18.5 in c:\\users\\sharm\\documents\\code\\lib\\site-packages (from pandas>=0.23->pandas-datareader) (1.21.5)\n",
      "Requirement already satisfied: python-dateutil>=2.8.1 in c:\\users\\sharm\\documents\\code\\lib\\site-packages (from pandas>=0.23->pandas-datareader) (2.8.2)\n",
      "Requirement already satisfied: six>=1.5 in c:\\users\\sharm\\documents\\code\\lib\\site-packages (from python-dateutil>=2.8.1->pandas>=0.23->pandas-datareader) (1.16.0)\n",
      "Requirement already satisfied: urllib3<1.27,>=1.21.1 in c:\\users\\sharm\\documents\\code\\lib\\site-packages (from requests>=2.19.0->pandas-datareader) (1.26.9)\n",
      "Requirement already satisfied: charset-normalizer~=2.0.0 in c:\\users\\sharm\\documents\\code\\lib\\site-packages (from requests>=2.19.0->pandas-datareader) (2.0.4)\n",
      "Requirement already satisfied: idna<4,>=2.5 in c:\\users\\sharm\\documents\\code\\lib\\site-packages (from requests>=2.19.0->pandas-datareader) (3.3)\n",
      "Requirement already satisfied: certifi>=2017.4.17 in c:\\users\\sharm\\documents\\code\\lib\\site-packages (from requests>=2.19.0->pandas-datareader) (2021.10.8)\n"
     ]
    }
   ],
   "source": [
    "! pip install --upgrade pandas\n",
    "! pip install --upgrade pandas-datareader"
   ]
  },
  {
   "cell_type": "code",
   "execution_count": 2,
   "metadata": {
    "colab": {
     "base_uri": "https://localhost:8080/"
    },
    "id": "chkdUK7ndkr1",
    "outputId": "dc857273-43a6-4013-b23a-430d94142326"
   },
   "outputs": [
    {
     "name": "stdout",
     "output_type": "stream",
     "text": [
      "Requirement already satisfied: yfinance in c:\\users\\sharm\\documents\\code\\lib\\site-packages (0.1.72)\n",
      "Requirement already satisfied: pandas>=0.24.0 in c:\\users\\sharm\\documents\\code\\lib\\site-packages (from yfinance) (1.4.3)\n",
      "Requirement already satisfied: numpy>=1.15 in c:\\users\\sharm\\documents\\code\\lib\\site-packages (from yfinance) (1.21.5)\n",
      "Requirement already satisfied: lxml>=4.5.1 in c:\\users\\sharm\\documents\\code\\lib\\site-packages (from yfinance) (4.8.0)\n",
      "Requirement already satisfied: requests>=2.26 in c:\\users\\sharm\\documents\\code\\lib\\site-packages (from yfinance) (2.27.1)\n",
      "Requirement already satisfied: multitasking>=0.0.7 in c:\\users\\sharm\\documents\\code\\lib\\site-packages (from yfinance) (0.0.11)\n",
      "Requirement already satisfied: python-dateutil>=2.8.1 in c:\\users\\sharm\\documents\\code\\lib\\site-packages (from pandas>=0.24.0->yfinance) (2.8.2)\n",
      "Requirement already satisfied: pytz>=2020.1 in c:\\users\\sharm\\documents\\code\\lib\\site-packages (from pandas>=0.24.0->yfinance) (2021.3)\n",
      "Requirement already satisfied: six>=1.5 in c:\\users\\sharm\\documents\\code\\lib\\site-packages (from python-dateutil>=2.8.1->pandas>=0.24.0->yfinance) (1.16.0)\n",
      "Requirement already satisfied: charset-normalizer~=2.0.0 in c:\\users\\sharm\\documents\\code\\lib\\site-packages (from requests>=2.26->yfinance) (2.0.4)\n",
      "Requirement already satisfied: urllib3<1.27,>=1.21.1 in c:\\users\\sharm\\documents\\code\\lib\\site-packages (from requests>=2.26->yfinance) (1.26.9)\n",
      "Requirement already satisfied: certifi>=2017.4.17 in c:\\users\\sharm\\documents\\code\\lib\\site-packages (from requests>=2.26->yfinance) (2021.10.8)\n",
      "Requirement already satisfied: idna<4,>=2.5 in c:\\users\\sharm\\documents\\code\\lib\\site-packages (from requests>=2.26->yfinance) (3.3)\n"
     ]
    }
   ],
   "source": [
    "! pip install yfinance"
   ]
  },
  {
   "cell_type": "code",
   "execution_count": 3,
   "metadata": {
    "id": "PDBCACNlaYIP"
   },
   "outputs": [],
   "source": [
    "import numpy as np\n",
    "import pandas as pd\n",
    "import matplotlib.pyplot as plt\n",
    "import pandas_datareader as dr\n"
   ]
  },
  {
   "cell_type": "code",
   "execution_count": 4,
   "metadata": {
    "colab": {
     "base_uri": "https://localhost:8080/",
     "height": 406
    },
    "id": "D6UjrPqabZRk",
    "outputId": "73e0d4ab-f6bf-419e-b3d6-45a25a56d125"
   },
   "outputs": [
    {
     "data": {
      "text/html": [
       "<div>\n",
       "<style scoped>\n",
       "    .dataframe tbody tr th:only-of-type {\n",
       "        vertical-align: middle;\n",
       "    }\n",
       "\n",
       "    .dataframe tbody tr th {\n",
       "        vertical-align: top;\n",
       "    }\n",
       "\n",
       "    .dataframe thead th {\n",
       "        text-align: right;\n",
       "    }\n",
       "</style>\n",
       "<table border=\"1\" class=\"dataframe\">\n",
       "  <thead>\n",
       "    <tr style=\"text-align: right;\">\n",
       "      <th></th>\n",
       "      <th>High</th>\n",
       "      <th>Low</th>\n",
       "      <th>Open</th>\n",
       "      <th>Close</th>\n",
       "      <th>Volume</th>\n",
       "      <th>Adj Close</th>\n",
       "    </tr>\n",
       "    <tr>\n",
       "      <th>Date</th>\n",
       "      <th></th>\n",
       "      <th></th>\n",
       "      <th></th>\n",
       "      <th></th>\n",
       "      <th></th>\n",
       "      <th></th>\n",
       "    </tr>\n",
       "  </thead>\n",
       "  <tbody>\n",
       "    <tr>\n",
       "      <th>2012-01-02</th>\n",
       "      <td>163.600006</td>\n",
       "      <td>161.139999</td>\n",
       "      <td>162.899994</td>\n",
       "      <td>162.764999</td>\n",
       "      <td>14464990.0</td>\n",
       "      <td>145.608521</td>\n",
       "    </tr>\n",
       "    <tr>\n",
       "      <th>2012-01-03</th>\n",
       "      <td>171.000000</td>\n",
       "      <td>164.300003</td>\n",
       "      <td>164.399994</td>\n",
       "      <td>170.565002</td>\n",
       "      <td>21341020.0</td>\n",
       "      <td>152.586334</td>\n",
       "    </tr>\n",
       "    <tr>\n",
       "      <th>2012-01-04</th>\n",
       "      <td>171.389999</td>\n",
       "      <td>167.520004</td>\n",
       "      <td>171.199997</td>\n",
       "      <td>169.604996</td>\n",
       "      <td>22241630.0</td>\n",
       "      <td>151.727493</td>\n",
       "    </tr>\n",
       "    <tr>\n",
       "      <th>2012-01-05</th>\n",
       "      <td>171.854996</td>\n",
       "      <td>168.005005</td>\n",
       "      <td>169.600006</td>\n",
       "      <td>169.244995</td>\n",
       "      <td>21344840.0</td>\n",
       "      <td>151.405472</td>\n",
       "    </tr>\n",
       "    <tr>\n",
       "      <th>2012-01-06</th>\n",
       "      <td>170.759995</td>\n",
       "      <td>165.804993</td>\n",
       "      <td>167.500000</td>\n",
       "      <td>167.274994</td>\n",
       "      <td>21137420.0</td>\n",
       "      <td>149.643143</td>\n",
       "    </tr>\n",
       "  </tbody>\n",
       "</table>\n",
       "</div>"
      ],
      "text/plain": [
       "                  High         Low        Open       Close      Volume  \\\n",
       "Date                                                                     \n",
       "2012-01-02  163.600006  161.139999  162.899994  162.764999  14464990.0   \n",
       "2012-01-03  171.000000  164.300003  164.399994  170.565002  21341020.0   \n",
       "2012-01-04  171.389999  167.520004  171.199997  169.604996  22241630.0   \n",
       "2012-01-05  171.854996  168.005005  169.600006  169.244995  21344840.0   \n",
       "2012-01-06  170.759995  165.804993  167.500000  167.274994  21137420.0   \n",
       "\n",
       "             Adj Close  \n",
       "Date                    \n",
       "2012-01-02  145.608521  \n",
       "2012-01-03  152.586334  \n",
       "2012-01-04  151.727493  \n",
       "2012-01-05  151.405472  \n",
       "2012-01-06  149.643143  "
      ]
     },
     "execution_count": 4,
     "metadata": {},
     "output_type": "execute_result"
    }
   ],
   "source": [
    "start_date = '2012-01-01'\n",
    "end_date = '2022-06-30'\n",
    "data = dr.DataReader('SBIN.NS','yahoo', start_date, end_date)\n",
    "data.head()"
   ]
  },
  {
   "cell_type": "code",
   "execution_count": 5,
   "metadata": {
    "colab": {
     "base_uri": "https://localhost:8080/"
    },
    "id": "zWCsiEevmGPy",
    "outputId": "7d818e2c-9d48-4117-af49-74acaebbd3af"
   },
   "outputs": [
    {
     "data": {
      "text/plain": [
       "(2588, 6)"
      ]
     },
     "execution_count": 5,
     "metadata": {},
     "output_type": "execute_result"
    }
   ],
   "source": [
    "data.shape"
   ]
  },
  {
   "cell_type": "code",
   "execution_count": 6,
   "metadata": {
    "colab": {
     "base_uri": "https://localhost:8080/",
     "height": 231
    },
    "id": "EIxNK1CPeZQu",
    "outputId": "3a15f985-8039-4533-e71a-5056ee1238bf"
   },
   "outputs": [
    {
     "data": {
      "text/plain": [
       "[<matplotlib.lines.Line2D at 0x26d3f4bd5b0>]"
      ]
     },
     "execution_count": 6,
     "metadata": {},
     "output_type": "execute_result"
    },
    {
     "data": {
      "image/png": "[encoded data removed]",
      "text/plain": [
       "<Figure size 432x288 with 1 Axes>"
      ]
     },
     "metadata": {
      "needs_background": "light"
     },
     "output_type": "display_data"
    }
   ],
   "source": [
    "#data= data.reset_index()\n",
    "plt.plot(data.Close)"
   ]
  },
  {
   "cell_type": "code",
   "execution_count": 7,
   "metadata": {
    "colab": {
     "base_uri": "https://localhost:8080/",
     "height": 455
    },
    "id": "NlYMI9WSZ9Qt",
    "outputId": "67d45c32-f1b8-46df-b037-6aa13ce6b2cd"
   },
   "outputs": [
    {
     "data": {
      "text/html": [
       "<div>\n",
       "<style scoped>\n",
       "    .dataframe tbody tr th:only-of-type {\n",
       "        vertical-align: middle;\n",
       "    }\n",
       "\n",
       "    .dataframe tbody tr th {\n",
       "        vertical-align: top;\n",
       "    }\n",
       "\n",
       "    .dataframe thead th {\n",
       "        text-align: right;\n",
       "    }\n",
       "</style>\n",
       "<table border=\"1\" class=\"dataframe\">\n",
       "  <thead>\n",
       "    <tr style=\"text-align: right;\">\n",
       "      <th></th>\n",
       "      <th>Close</th>\n",
       "    </tr>\n",
       "    <tr>\n",
       "      <th>Date</th>\n",
       "      <th></th>\n",
       "    </tr>\n",
       "  </thead>\n",
       "  <tbody>\n",
       "    <tr>\n",
       "      <th>2012-01-02</th>\n",
       "      <td>162.764999</td>\n",
       "    </tr>\n",
       "    <tr>\n",
       "      <th>2012-01-03</th>\n",
       "      <td>170.565002</td>\n",
       "    </tr>\n",
       "    <tr>\n",
       "      <th>2012-01-04</th>\n",
       "      <td>169.604996</td>\n",
       "    </tr>\n",
       "    <tr>\n",
       "      <th>2012-01-05</th>\n",
       "      <td>169.244995</td>\n",
       "    </tr>\n",
       "    <tr>\n",
       "      <th>2012-01-06</th>\n",
       "      <td>167.274994</td>\n",
       "    </tr>\n",
       "    <tr>\n",
       "      <th>...</th>\n",
       "      <td>...</td>\n",
       "    </tr>\n",
       "    <tr>\n",
       "      <th>2022-06-24</th>\n",
       "      <td>454.250000</td>\n",
       "    </tr>\n",
       "    <tr>\n",
       "      <th>2022-06-27</th>\n",
       "      <td>461.200012</td>\n",
       "    </tr>\n",
       "    <tr>\n",
       "      <th>2022-06-28</th>\n",
       "      <td>464.250000</td>\n",
       "    </tr>\n",
       "    <tr>\n",
       "      <th>2022-06-29</th>\n",
       "      <td>459.100006</td>\n",
       "    </tr>\n",
       "    <tr>\n",
       "      <th>2022-06-30</th>\n",
       "      <td>465.899994</td>\n",
       "    </tr>\n",
       "  </tbody>\n",
       "</table>\n",
       "<p>2588 rows × 1 columns</p>\n",
       "</div>"
      ],
      "text/plain": [
       "                 Close\n",
       "Date                  \n",
       "2012-01-02  162.764999\n",
       "2012-01-03  170.565002\n",
       "2012-01-04  169.604996\n",
       "2012-01-05  169.244995\n",
       "2012-01-06  167.274994\n",
       "...                ...\n",
       "2022-06-24  454.250000\n",
       "2022-06-27  461.200012\n",
       "2022-06-28  464.250000\n",
       "2022-06-29  459.100006\n",
       "2022-06-30  465.899994\n",
       "\n",
       "[2588 rows x 1 columns]"
      ]
     },
     "execution_count": 7,
     "metadata": {},
     "output_type": "execute_result"
    }
   ],
   "source": [
    "data = data[['Close']]\n",
    "data"
   ]
  },
  {
   "cell_type": "code",
   "execution_count": 8,
   "metadata": {
    "id": "htXZq1d6ivf1"
   },
   "outputs": [],
   "source": [
    "# moving average for 100 days \n",
    "ma100 = data.Close.rolling(100).mean()\n"
   ]
  },
  {
   "cell_type": "code",
   "execution_count": 9,
   "metadata": {
    "colab": {
     "base_uri": "https://localhost:8080/",
     "height": 214
    },
    "id": "ICeHkuJ-ivco",
    "outputId": "9899b1d1-594f-4963-fe59-745cde8b0695"
   },
   "outputs": [
    {
     "data": {
      "text/plain": [
       "[<matplotlib.lines.Line2D at 0x26d3f1a7eb0>]"
      ]
     },
     "execution_count": 9,
     "metadata": {},
     "output_type": "execute_result"
    },
    {
     "data": {
      "image/png": "[encoded data removed]",
      "text/plain": [
       "<Figure size 720x432 with 1 Axes>"
      ]
     },
     "metadata": {
      "needs_background": "light"
     },
     "output_type": "display_data"
    }
   ],
   "source": [
    "#visualize\n",
    "plt.figure(figsize =(10,6))\n",
    "plt.plot(ma100,'r')\n",
    "plt.plot(data.Close)"
   ]
  },
  {
   "cell_type": "code",
   "execution_count": 10,
   "metadata": {
    "colab": {
     "base_uri": "https://localhost:8080/"
    },
    "id": "TKxojFNjmYjy",
    "outputId": "a03a03b2-fcee-469f-a2a3-501169e8c814"
   },
   "outputs": [
    {
     "data": {
      "text/plain": [
       "(2588, 1)"
      ]
     },
     "execution_count": 10,
     "metadata": {},
     "output_type": "execute_result"
    }
   ],
   "source": [
    "data.shape"
   ]
  },
  {
   "cell_type": "code",
   "execution_count": 11,
   "metadata": {
    "id": "ntP7gYVkivZ5"
   },
   "outputs": [],
   "source": [
    "data_train = pd.DataFrame(data.Close[:int(len(data)*0.80)])\n",
    "data_test = pd.DataFrame(data.Close[int(len(data)*0.80):])"
   ]
  },
  {
   "cell_type": "code",
   "execution_count": 12,
   "metadata": {
    "colab": {
     "base_uri": "https://localhost:8080/"
    },
    "id": "ap1EJFR_cfXv",
    "outputId": "6e8660f9-c62f-4ead-e880-e106bde1e60e"
   },
   "outputs": [
    {
     "data": {
      "text/plain": [
       "((2070, 1), (518, 1))"
      ]
     },
     "execution_count": 12,
     "metadata": {},
     "output_type": "execute_result"
    }
   ],
   "source": [
    "data_train.shape,data_test.shape"
   ]
  },
  {
   "cell_type": "code",
   "execution_count": 13,
   "metadata": {
    "id": "is9A8Xfgit1q"
   },
   "outputs": [],
   "source": [
    "from sklearn.preprocessing import MinMaxScaler\n",
    "scaler = MinMaxScaler(feature_range =(0,1))"
   ]
  },
  {
   "cell_type": "code",
   "execution_count": 14,
   "metadata": {
    "id": "aIPd0IM7ityY"
   },
   "outputs": [],
   "source": [
    "#values = data.Close.values\n",
    "#values = values.reshape(-1,1)"
   ]
  },
  {
   "cell_type": "code",
   "execution_count": 15,
   "metadata": {
    "id": "o2_kzb_zitu7"
   },
   "outputs": [],
   "source": [
    "scaled_train = scaler.fit_transform(data_train)\n",
    "scaled_test = scaler.fit_transform(data_test)\n",
    "#scaled_test"
   ]
  },
  {
   "cell_type": "code",
   "execution_count": 16,
   "metadata": {
    "id": "YBRTfJjFitsc"
   },
   "outputs": [],
   "source": [
    "# preparing dataset for lstm \n",
    "\n",
    "def dataset_lstm(dataset,steps):\n",
    "  x_train,y_train =[],[]\n",
    "  for i in range(len(dataset)-steps-1):\n",
    "    a = dataset[i:(i+steps),0]\n",
    "    x_train.append(a)\n",
    "    y_train.append(dataset[i+steps,0])\n",
    "  return np.array(x_train),np.array(y_train)"
   ]
  },
  {
   "cell_type": "code",
   "execution_count": null,
   "metadata": {
    "id": "mDLTvQ10kOTM"
   },
   "outputs": [],
   "source": []
  },
  {
   "cell_type": "code",
   "execution_count": 17,
   "metadata": {
    "id": "ggxY3w9Titqq"
   },
   "outputs": [],
   "source": [
    "steps = 50\n",
    "x_train,y_train = dataset_lstm(scaled_train,steps)\n",
    "x_test,y_test = dataset_lstm(scaled_test,steps)"
   ]
  },
  {
   "cell_type": "code",
   "execution_count": 18,
   "metadata": {
    "colab": {
     "base_uri": "https://localhost:8080/"
    },
    "id": "EWxUW0K0itof",
    "outputId": "da4c377a-c6a1-433a-ea14-d4b2b54bdcaa"
   },
   "outputs": [
    {
     "data": {
      "text/plain": [
       "((2019, 50), (2019,))"
      ]
     },
     "execution_count": 18,
     "metadata": {},
     "output_type": "execute_result"
    }
   ],
   "source": [
    "x_train.shape,y_train.shape"
   ]
  },
  {
   "cell_type": "code",
   "execution_count": 19,
   "metadata": {
    "id": "cVzLwDMcitmj"
   },
   "outputs": [],
   "source": [
    "import keras\n",
    "from keras.models import Sequential\n",
    "from keras.layers import LSTM,Dense,Dropout"
   ]
  },
  {
   "cell_type": "code",
   "execution_count": 20,
   "metadata": {
    "colab": {
     "base_uri": "https://localhost:8080/"
    },
    "id": "_AiLJ8Hcitj0",
    "outputId": "9d895402-2a1b-49e1-c5a5-b7586bd12951"
   },
   "outputs": [
    {
     "name": "stdout",
     "output_type": "stream",
     "text": [
      "Model: \"sequential\"\n",
      "_________________________________________________________________\n",
      " Layer (type)                Output Shape              Param #   \n",
      "=================================================================\n",
      " lstm (LSTM)                 (None, 50, 150)           91200     \n",
      "                                                                 \n",
      " dropout (Dropout)           (None, 50, 150)           0         \n",
      "                                                                 \n",
      " lstm_1 (LSTM)               (None, 50, 100)           100400    \n",
      "                                                                 \n",
      " dropout_1 (Dropout)         (None, 50, 100)           0         \n",
      "                                                                 \n",
      " lstm_2 (LSTM)               (None, 150)               150600    \n",
      "                                                                 \n",
      " dense (Dense)               (None, 1)                 151       \n",
      "                                                                 \n",
      "=================================================================\n",
      "Total params: 342,351\n",
      "Trainable params: 342,351\n",
      "Non-trainable params: 0\n",
      "_________________________________________________________________\n"
     ]
    }
   ],
   "source": [
    "model = Sequential()\n",
    "model.add(LSTM(units =150,return_sequences=True,activation = 'relu',input_shape = (x_train.shape[1],1)))\n",
    "model.add(Dropout(0.2))\n",
    "\n",
    "model.add(LSTM(units =100,activation = 'relu',return_sequences=True))\n",
    "model.add(Dropout(0.2))\n",
    "\n",
    "model.add(LSTM(units =150))\n",
    "model.add(Dense(units =1,activation ='linear'))\n",
    "model.summary()"
   ]
  },
  {
   "cell_type": "code",
   "execution_count": 21,
   "metadata": {
    "colab": {
     "base_uri": "https://localhost:8080/"
    },
    "id": "I3rO361eitho",
    "outputId": "54ea85e7-ad16-48cb-c5bc-bca966b005e1"
   },
   "outputs": [
    {
     "name": "stdout",
     "output_type": "stream",
     "text": [
      "Epoch 1/30\n",
      "32/32 [==============================] - 13s 174ms/step - loss: 0.0374 - val_loss: 0.0047\n",
      "Epoch 2/30\n",
      "32/32 [==============================] - 5s 143ms/step - loss: 0.0059 - val_loss: 0.0039\n",
      "Epoch 3/30\n",
      "32/32 [==============================] - 5s 142ms/step - loss: 0.0045 - val_loss: 0.0031\n",
      "Epoch 4/30\n",
      "32/32 [==============================] - 4s 140ms/step - loss: 0.0036 - val_loss: 0.0026\n",
      "Epoch 5/30\n",
      "32/32 [==============================] - 5s 143ms/step - loss: 0.0032 - val_loss: 0.0042\n",
      "Epoch 6/30\n",
      "32/32 [==============================] - 5s 141ms/step - loss: 0.0029 - val_loss: 0.0021\n",
      "Epoch 7/30\n",
      "32/32 [==============================] - 5s 145ms/step - loss: 0.0026 - val_loss: 0.0018\n",
      "Epoch 8/30\n",
      "32/32 [==============================] - 5s 142ms/step - loss: 0.0027 - val_loss: 0.0017\n",
      "Epoch 9/30\n",
      "32/32 [==============================] - 5s 143ms/step - loss: 0.0028 - val_loss: 0.0027\n",
      "Epoch 10/30\n",
      "32/32 [==============================] - 5s 141ms/step - loss: 0.0027 - val_loss: 0.0015\n",
      "Epoch 11/30\n",
      "32/32 [==============================] - 5s 143ms/step - loss: 0.0023 - val_loss: 0.0016\n",
      "Epoch 12/30\n",
      "32/32 [==============================] - 5s 143ms/step - loss: 0.0022 - val_loss: 0.0015\n",
      "Epoch 13/30\n",
      "32/32 [==============================] - 5s 143ms/step - loss: 0.0021 - val_loss: 0.0015\n",
      "Epoch 14/30\n",
      "32/32 [==============================] - 5s 143ms/step - loss: 0.0022 - val_loss: 0.0029\n",
      "Epoch 15/30\n",
      "32/32 [==============================] - 5s 143ms/step - loss: 0.0022 - val_loss: 0.0014\n",
      "Epoch 16/30\n",
      "32/32 [==============================] - 5s 143ms/step - loss: 0.0021 - val_loss: 0.0027\n",
      "Epoch 17/30\n",
      "32/32 [==============================] - 5s 143ms/step - loss: 0.0019 - val_loss: 0.0013\n",
      "Epoch 18/30\n",
      "32/32 [==============================] - 5s 143ms/step - loss: 0.0019 - val_loss: 0.0020\n",
      "Epoch 19/30\n",
      "32/32 [==============================] - 5s 144ms/step - loss: 0.0020 - val_loss: 0.0012\n",
      "Epoch 20/30\n",
      "32/32 [==============================] - 5s 146ms/step - loss: 0.0018 - val_loss: 0.0021\n",
      "Epoch 21/30\n",
      "32/32 [==============================] - 5s 143ms/step - loss: 0.0018 - val_loss: 0.0012\n",
      "Epoch 22/30\n",
      "32/32 [==============================] - 5s 144ms/step - loss: 0.0019 - val_loss: 0.0011\n",
      "Epoch 23/30\n",
      "32/32 [==============================] - 5s 145ms/step - loss: 0.0017 - val_loss: 9.8299e-04\n",
      "Epoch 24/30\n",
      "32/32 [==============================] - 5s 143ms/step - loss: 0.0018 - val_loss: 0.0021\n",
      "Epoch 25/30\n",
      "32/32 [==============================] - 5s 145ms/step - loss: 0.0017 - val_loss: 0.0013\n",
      "Epoch 26/30\n",
      "32/32 [==============================] - 5s 143ms/step - loss: 0.0018 - val_loss: 0.0024\n",
      "Epoch 27/30\n",
      "32/32 [==============================] - 5s 143ms/step - loss: 0.0017 - val_loss: 0.0012\n",
      "Epoch 28/30\n",
      "32/32 [==============================] - 5s 155ms/step - loss: 0.0016 - val_loss: 0.0018\n",
      "Epoch 29/30\n",
      "32/32 [==============================] - 5s 148ms/step - loss: 0.0016 - val_loss: 0.0011\n",
      "Epoch 30/30\n",
      "32/32 [==============================] - 5s 144ms/step - loss: 0.0016 - val_loss: 0.0013\n"
     ]
    },
    {
     "data": {
      "text/plain": [
       "<keras.callbacks.History at 0x26d49c62c70>"
      ]
     },
     "execution_count": 21,
     "metadata": {},
     "output_type": "execute_result"
    }
   ],
   "source": [
    "model.compile(loss = 'mean_squared_error',optimizer ='adam')\n",
    "model.fit(x_train,y_train,validation_data=(x_test,y_test),epochs =30,batch_size =64,verbose =1)"
   ]
  },
  {
   "cell_type": "code",
   "execution_count": 22,
   "metadata": {
    "id": "mHq4gT4wzNFv"
   },
   "outputs": [],
   "source": [
    "model.save('time_series_model.h5')"
   ]
  },
  {
   "cell_type": "code",
   "execution_count": 23,
   "metadata": {
    "colab": {
     "base_uri": "https://localhost:8080/",
     "height": 227
    },
    "id": "jSeRtZ3Hitfh",
    "outputId": "549e15ce-bc81-4521-ebb6-e6190099db6c"
   },
   "outputs": [
    {
     "data": {
      "text/plain": [
       "[<matplotlib.lines.Line2D at 0x26d51ae4550>]"
      ]
     },
     "execution_count": 23,
     "metadata": {},
     "output_type": "execute_result"
    },
    {
     "data": {
      "image/png": "[encoded data removed]",
      "text/plain": [
       "<Figure size 432x288 with 1 Axes>"
      ]
     },
     "metadata": {
      "needs_background": "light"
     },
     "output_type": "display_data"
    }
   ],
   "source": [
    "loss = model.history.history['loss']\n",
    "plt.plot(loss)    "
   ]
  },
  {
   "cell_type": "code",
   "execution_count": 24,
   "metadata": {
    "colab": {
     "base_uri": "https://localhost:8080/",
     "height": 238
    },
    "id": "0UCsSZcfitdI",
    "outputId": "8710ec88-90db-4853-edd8-1cdf0c254f35"
   },
   "outputs": [
    {
     "data": {
      "text/html": [
       "<div>\n",
       "<style scoped>\n",
       "    .dataframe tbody tr th:only-of-type {\n",
       "        vertical-align: middle;\n",
       "    }\n",
       "\n",
       "    .dataframe tbody tr th {\n",
       "        vertical-align: top;\n",
       "    }\n",
       "\n",
       "    .dataframe thead th {\n",
       "        text-align: right;\n",
       "    }\n",
       "</style>\n",
       "<table border=\"1\" class=\"dataframe\">\n",
       "  <thead>\n",
       "    <tr style=\"text-align: right;\">\n",
       "      <th></th>\n",
       "      <th>Close</th>\n",
       "    </tr>\n",
       "    <tr>\n",
       "      <th>Date</th>\n",
       "      <th></th>\n",
       "    </tr>\n",
       "  </thead>\n",
       "  <tbody>\n",
       "    <tr>\n",
       "      <th>2020-06-05</th>\n",
       "      <td>187.800003</td>\n",
       "    </tr>\n",
       "    <tr>\n",
       "      <th>2020-06-08</th>\n",
       "      <td>186.800003</td>\n",
       "    </tr>\n",
       "    <tr>\n",
       "      <th>2020-06-09</th>\n",
       "      <td>184.449997</td>\n",
       "    </tr>\n",
       "    <tr>\n",
       "      <th>2020-06-10</th>\n",
       "      <td>187.699997</td>\n",
       "    </tr>\n",
       "    <tr>\n",
       "      <th>2020-06-11</th>\n",
       "      <td>177.149994</td>\n",
       "    </tr>\n",
       "  </tbody>\n",
       "</table>\n",
       "</div>"
      ],
      "text/plain": [
       "                 Close\n",
       "Date                  \n",
       "2020-06-05  187.800003\n",
       "2020-06-08  186.800003\n",
       "2020-06-09  184.449997\n",
       "2020-06-10  187.699997\n",
       "2020-06-11  177.149994"
      ]
     },
     "execution_count": 24,
     "metadata": {},
     "output_type": "execute_result"
    }
   ],
   "source": [
    "data_test.head()"
   ]
  },
  {
   "cell_type": "code",
   "execution_count": 25,
   "metadata": {
    "id": "SNhEtgvaitbB"
   },
   "outputs": [
    {
     "name": "stderr",
     "output_type": "stream",
     "text": [
      "C:\\Users\\sharm\\AppData\\Local\\Temp\\ipykernel_32952\\3305041397.py:2: FutureWarning: The frame.append method is deprecated and will be removed from pandas in a future version. Use pandas.concat instead.\n",
      "  final_test_data = previous_50_data.append(data_test,ignore_index= True)\n"
     ]
    }
   ],
   "source": [
    "previous_50_data = data_train.tail(50)\n",
    "final_test_data = previous_50_data.append(data_test,ignore_index= True)"
   ]
  },
  {
   "cell_type": "code",
   "execution_count": 26,
   "metadata": {
    "colab": {
     "base_uri": "https://localhost:8080/"
    },
    "id": "iW_gf9mjitVw",
    "outputId": "626ef031-279a-4e7e-9014-953ee73a616c"
   },
   "outputs": [
    {
     "data": {
      "text/plain": [
       "((518, 1), (568, 1))"
      ]
     },
     "execution_count": 26,
     "metadata": {},
     "output_type": "execute_result"
    }
   ],
   "source": [
    "data_test.shape, final_test_data.shape\n"
   ]
  },
  {
   "cell_type": "code",
   "execution_count": 27,
   "metadata": {
    "id": "rCIHFx2QitTO"
   },
   "outputs": [],
   "source": [
    "final_test_data = scaler.fit_transform(final_test_data)"
   ]
  },
  {
   "cell_type": "code",
   "execution_count": 28,
   "metadata": {
    "id": "KsND7EVhitNj"
   },
   "outputs": [],
   "source": [
    "final_x_test, final_y_test = dataset_lstm(final_test_data,steps)"
   ]
  },
  {
   "cell_type": "code",
   "execution_count": 29,
   "metadata": {
    "colab": {
     "base_uri": "https://localhost:8080/"
    },
    "id": "Rn-KNtcWitLd",
    "outputId": "5a0eac2f-97e7-4358-ce8f-be0590efb7ae"
   },
   "outputs": [
    {
     "data": {
      "text/plain": [
       "(517,)"
      ]
     },
     "execution_count": 29,
     "metadata": {},
     "output_type": "execute_result"
    }
   ],
   "source": [
    "final_y_test.shape"
   ]
  },
  {
   "cell_type": "code",
   "execution_count": 30,
   "metadata": {
    "id": "7vrCwPw44j2i"
   },
   "outputs": [],
   "source": [
    "#final_y_test"
   ]
  },
  {
   "cell_type": "code",
   "execution_count": 31,
   "metadata": {
    "id": "r2MlHOCX4H1x"
   },
   "outputs": [
    {
     "name": "stdout",
     "output_type": "stream",
     "text": [
      "17/17 [==============================] - 4s 27ms/step\n"
     ]
    }
   ],
   "source": [
    "y_predict = model.predict(final_x_test)"
   ]
  },
  {
   "cell_type": "code",
   "execution_count": 32,
   "metadata": {
    "id": "rhthcpMd4HyC"
   },
   "outputs": [],
   "source": [
    "#y_predict"
   ]
  },
  {
   "cell_type": "code",
   "execution_count": 33,
   "metadata": {
    "colab": {
     "base_uri": "https://localhost:8080/"
    },
    "id": "60Tl3ztP4Hvk",
    "outputId": "df48025f-d43c-40b7-82b8-fbc580081200"
   },
   "outputs": [
    {
     "data": {
      "text/plain": [
       "array([0.00256608])"
      ]
     },
     "execution_count": 33,
     "metadata": {},
     "output_type": "execute_result"
    }
   ],
   "source": [
    "scaler.scale_"
   ]
  },
  {
   "cell_type": "code",
   "execution_count": 34,
   "metadata": {
    "id": "NYu6C7TG4HtL"
   },
   "outputs": [],
   "source": [
    "final_y_test = scaler.inverse_transform(final_y_test.reshape(-1,1))\n",
    "y_predict = scaler.inverse_transform(y_predict)"
   ]
  },
  {
   "cell_type": "code",
   "execution_count": 35,
   "metadata": {
    "colab": {
     "base_uri": "https://localhost:8080/",
     "height": 200
    },
    "id": "EgSbCUv74Hq3",
    "outputId": "b5475b95-d466-4cb4-daa7-8bba9ff292f8"
   },
   "outputs": [
    {
     "data": {
      "image/png": "[encoded data removed]",
      "text/plain": [
       "<Figure size 432x288 with 1 Axes>"
      ]
     },
     "metadata": {
      "needs_background": "light"
     },
     "output_type": "display_data"
    }
   ],
   "source": [
    "plt.plot(final_y_test, 'r',label ='actual values')\n",
    "plt.plot(y_predict, 'b',label = 'predicted values')\n",
    "plt.xlabel(\"Time\")\n",
    "plt.ylabel('closing price')\n",
    "plt.legend()\n",
    "plt.show()"
   ]
  },
  {
   "cell_type": "code",
   "execution_count": 36,
   "metadata": {
    "id": "BV1NuMKd4Hod"
   },
   "outputs": [
    {
     "name": "stdout",
     "output_type": "stream",
     "text": [
      "64/64 [==============================] - 2s 28ms/step\n"
     ]
    }
   ],
   "source": [
    "train_predict = model.predict(x_train)\n",
    "train_predict =scaler.inverse_transform(train_predict)"
   ]
  },
  {
   "cell_type": "code",
   "execution_count": 63,
   "metadata": {
    "colab": {
     "base_uri": "https://localhost:8080/",
     "height": 234
    },
    "id": "94JMUjZx9b59",
    "outputId": "c1017615-b227-4b80-cf97-c438e9fece73"
   },
   "outputs": [
    {
     "data": {
      "text/plain": [
       "<function matplotlib.pyplot.show(close=None, block=None)>"
      ]
     },
     "execution_count": 63,
     "metadata": {},
     "output_type": "execute_result"
    },
    {
     "data": {
      "image/png": "[encoded data removed]",
      "text/plain": [
       "<Figure size 432x288 with 1 Axes>"
      ]
     },
     "metadata": {
      "needs_background": "light"
     },
     "output_type": "display_data"
    }
   ],
   "source": [
    "train_predict.shape,y_predict.shape\n",
    "plt.plot(np.arange(1,len(x_train)+1),train_predict,'r',label = 'training data prediction')\n",
    "plt.plot(np.arange(len(x_train),2536),y_predict, 'b',label = 'test prediction')\n",
    "#plt.plot(scaler.inverse_transform(y_train.reshape(-1,1)),'g')\n",
    "plt.plot(data.Close.values, 'g',label ='actual values')\n",
    "plt.xlabel('time')\n",
    "plt.ylabel('closing price')\n",
    "plt.legend()\n",
    "plt.show"
   ]
  },
  {
   "cell_type": "code",
   "execution_count": 64,
   "metadata": {},
   "outputs": [
    {
     "data": {
      "text/plain": [
       "((2019, 50), (467, 50), (2019,), (467,), (517, 1), (2019, 1))"
      ]
     },
     "execution_count": 64,
     "metadata": {},
     "output_type": "execute_result"
    }
   ],
   "source": [
    "#x_train.shape,x_test.shape,y_train.shape,y_test.shape,y_predict.shape,train_predict.shape"
   ]
  },
  {
   "cell_type": "code",
   "execution_count": null,
   "metadata": {},
   "outputs": [],
   "source": []
  },
  {
   "cell_type": "code",
   "execution_count": 65,
   "metadata": {
    "colab": {
     "base_uri": "https://localhost:8080/",
     "height": 231
    },
    "id": "pilCTWdH4Hl2",
    "outputId": "73c56705-f712-4a4b-d875-fb2fccf62f55"
   },
   "outputs": [
    {
     "data": {
      "text/plain": [
       "[<matplotlib.lines.Line2D at 0x26d59ab1fd0>]"
      ]
     },
     "execution_count": 65,
     "metadata": {},
     "output_type": "execute_result"
    },
    {
     "data": {
      "image/png": "[encoded data removed]",
      "text/plain": [
       "<Figure size 432x288 with 1 Axes>"
      ]
     },
     "metadata": {
      "needs_background": "light"
     },
     "output_type": "display_data"
    }
   ],
   "source": [
    "plt.plot(train_predict,'r')\n",
    "plt.plot(scaler.inverse_transform(y_train.reshape(-1,1)))"
   ]
  }
 ],
 "metadata": {
  "accelerator": "GPU",
  "colab": {
   "collapsed_sections": [],
   "name": "time series project ",
   "provenance": []
  },
  "gpuClass": "standard",
  "kernelspec": {
   "display_name": "Python 3 (ipykernel)",
   "language": "python",
   "name": "python3"
  },
  "language_info": {
   "codemirror_mode": {
    "name": "ipython",
    "version": 3
   },
   "file_extension": ".py",
   "mimetype": "text/x-python",
   "name": "python",
   "nbconvert_exporter": "python",
   "pygments_lexer": "ipython3",
   "version": "3.9.12"
  }
 },
 "nbformat": 4,
 "nbformat_minor": 1
}
